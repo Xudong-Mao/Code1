{
 "metadata": {
  "language_info": {
   "codemirror_mode": {
    "name": "ipython",
    "version": 3
   },
   "file_extension": ".py",
   "mimetype": "text/x-python",
   "name": "python",
   "nbconvert_exporter": "python",
   "pygments_lexer": "ipython3",
   "version": "3.6.13-final"
  },
  "orig_nbformat": 4,
  "kernelspec": {
   "name": "python361364bit98ada0f748b44d8eae2f0caea74675ec",
   "display_name": "Python 3.6.13 64-bit"
  },
  "interpreter": {
   "hash": "bf53d05659b9b70490cbd12961c12d023215b911d38d7263b878852c4afbc895"
  }
 },
 "nbformat": 4,
 "nbformat_minor": 2,
 "cells": [
  {
   "cell_type": "code",
   "execution_count": 1,
   "metadata": {},
   "outputs": [
    {
     "output_type": "stream",
     "name": "stdout",
     "text": [
      "Loading dataset from file... This may take a few minutes...\n",
      "Loaded dataset in 65 seconds\n"
     ]
    }
   ],
   "source": [
    "# 使用微生物遗传算法作为搜索策略进行网络搜索test\n",
    "# Standard imports\n",
    "from nasbench import api\n",
    "import copy\n",
    "import numpy as np\n",
    "import matplotlib.pyplot as plt\n",
    "import random\n",
    "import torch\n",
    "\n",
    "NASBENCH_PATH = r\"/workspace/Code1/nasbench/nasbench_only108.tfrecord\"\n",
    "nasbench = api.NASBench(NASBENCH_PATH)\n",
    "# Useful constants 有用的参数\n",
    "INPUT = 'input'\n",
    "OUTPUT = 'output'\n",
    "CONV3X3 = 'conv3x3-bn-relu'\n",
    "CONV1X1 = 'conv1x1-bn-relu'\n",
    "MAXPOOL3X3 = 'maxpool3x3'\n",
    "NUM_VERTICES = 7     # 顶点的个数\n",
    "MAX_EDGES = 9  # 为了说明最多边为9\n",
    "EDGE_SPOTS = NUM_VERTICES * (NUM_VERTICES - 1) / 2   # Upper triangular matrix \n",
    "# 上三角矩阵 规定边\n",
    "OP_SPOTS = NUM_VERTICES - 2   # Input/output vertices are fixed 输入/输出顶点是固定的\n",
    "ALLOWED_OPS = [CONV3X3, CONV1X1, MAXPOOL3X3]  # 允许的结构\n",
    "ALLOWED_EDGES = [0, 1]   # Binary adjacency matrix 二元邻接矩阵"
   ]
  },
  {
   "cell_type": "code",
   "execution_count": 2,
   "metadata": {},
   "outputs": [],
   "source": [
    "# 先 MGA 算法手动实现一下\n",
    " # 保存好的父母，让好的父母不消失，在袋子里抽两个球, 对比两个球, 把球大的放回袋子里, 把球小的变一下再放回袋子里\n",
    " # 这里直接使用的莫烦的代码主要学习他的而逻辑来俩作为搜索策略\n",
    "import numpy as np\n",
    "# import matplotlib.pyplot as plt\n",
    "\n",
    "DNA_SIZE = 10            # DNA length\n",
    "POP_SIZE = 20            # population size\n",
    "CROSS_RATE = 0.6         # mating probability (DNA crossover)\n",
    "MUTATION_RATE = 0.01     # mutation probability\n",
    "N_GENERATIONS = 200\n",
    "X_BOUND = [0, 5]         # x upper and lower bounds\n",
    "\n",
    "\n",
    "def F(x): return np.sin(10*x)*x + np.cos(2*x)*x     # to find the maximum of this function  求这个函数的最大值\n",
    "\n",
    "\n",
    "class MGA(object):\n",
    "    def __init__(self, DNA_size, DNA_bound, cross_rate, mutation_rate, pop_size):\n",
    "        self.DNA_size = DNA_size\n",
    "        DNA_bound[1] += 1\n",
    "        self.DNA_bound = DNA_bound\n",
    "        self.cross_rate = cross_rate\n",
    "        self.mutate_rate = mutation_rate\n",
    "        self.pop_size = pop_size\n",
    "\n",
    "        # initial DNAs for winner and loser\n",
    "        self.pop = np.random.randint(*DNA_bound, size=(1, self.DNA_size)).repeat(pop_size, axis=0)\n",
    "\n",
    "    def translateDNA(self, pop):\n",
    "        # convert binary DNA to decimal and normalize it to a range(0, 5)\n",
    "        return pop.dot(2 ** np.arange(self.DNA_size)[::-1]) / float(2 ** self.DNA_size - 1) * X_BOUND[1]\n",
    "\n",
    "    def get_fitness(self, product):\n",
    "        return product      # it is OK to use product value as fitness in here\n",
    "\n",
    "    def crossover(self, loser_winner):      # crossover for loser\n",
    "        cross_idx = np.empty((self.DNA_size,)).astype(np.bool)\n",
    "        for i in range(self.DNA_size):\n",
    "            cross_idx[i] = True if np.random.rand() < self.cross_rate else False  # crossover index\n",
    "        loser_winner[0, cross_idx] = loser_winner[1, cross_idx]  # assign winners genes to loser\n",
    "        return loser_winner\n",
    "\n",
    "    def mutate(self, loser_winner):         # mutation for loser\n",
    "        mutation_idx = np.empty((self.DNA_size,)).astype(np.bool)\n",
    "        for i in range(self.DNA_size):\n",
    "            mutation_idx[i] = True if np.random.rand() < self.mutate_rate else False  # mutation index\n",
    "        # flip values in mutation points\n",
    "        loser_winner[0, mutation_idx] = ~loser_winner[0, mutation_idx].astype(np.bool)\n",
    "        return loser_winner\n",
    "\n",
    "    def evolve(self, n):    # nature selection wrt pop's fitness\n",
    "        for _ in range(n):  # random pick and compare n times\n",
    "            sub_pop_idx = np.random.choice(np.arange(0, self.pop_size), size=2, replace=False)\n",
    "            sub_pop = self.pop[sub_pop_idx]             # pick 2 from pop\n",
    "            product = F(self.translateDNA(sub_pop))\n",
    "            fitness = self.get_fitness(product)\n",
    "            loser_winner_idx = np.argsort(fitness)\n",
    "            loser_winner = sub_pop[loser_winner_idx]    # the first is loser and second is winner\n",
    "            loser_winner = self.crossover(loser_winner)\n",
    "            loser_winner = self.mutate(loser_winner)\n",
    "            self.pop[sub_pop_idx] = loser_winner\n",
    "\n",
    "        DNA_prod = self.translateDNA(self.pop)\n",
    "        pred = F(DNA_prod)\n",
    "        return DNA_prod, pred\n",
    "\n",
    "\n",
    "# plt.ion()       # something about plotting\n",
    "# x = np.linspace(*X_BOUND, 200)\n",
    "# plt.plot(x, F(x))\n",
    "\n",
    "ga = MGA(DNA_size=DNA_SIZE, DNA_bound=[0, 1], cross_rate=CROSS_RATE, mutation_rate=MUTATION_RATE, pop_size=POP_SIZE)\n",
    "\n",
    "# for _ in range(N_GENERATIONS):                    # 100 generations\n",
    "#     DNA_prod, pred = ga.evolve(5)          # natural selection, crossover and mutation\n",
    "\n",
    "#     # something about plotting\n",
    "#     if 'sca' in globals(): sca.remove()\n",
    "#     sca = plt.scatter(DNA_prod, pred, s=200, lw=0, c='red', alpha=0.5); plt.pause(0.05)\n",
    "\n",
    "# plt.ioff();plt.show()"
   ]
  },
  {
   "cell_type": "code",
   "execution_count": 3,
   "metadata": {},
   "outputs": [],
   "source": [
    "# 正式开始使用NASbaech101实现以下MGA算法\n",
    "# 创建一个随机空间\n",
    "# import api\n",
    "def random_spec(mean=None, var=None):\n",
    "    \"\"\"返回一个随机的验证空间\"\"\"\n",
    "    while True:\n",
    "        matrix = np.random.choice(ALLOWED_EDGES,size=(NUM_VERTICES,NUM_VERTICES))  # 第一个参数规定了矩阵的维度\n",
    "        matrix = np.triu(matrix,1) # 获得矩阵的上三角 ，1对第一个对角线以下的元素归零\n",
    "        ops = np.random.choice(ALLOWED_OPS,size=(NUM_VERTICES)).tolist() # 创建一个随机结构从允许结构中选择，7个顶点，并转化成列表（？）\n",
    "        ops[0] = INPUT  # 将可选结构列表修改第一个改成固定结构，input\n",
    "        ops[-1]  = OUTPUT # 将可选结构列表修改最后一个改成固定结构，output\n",
    "        spec = api.ModelSpec(matrix=matrix, ops=ops) # 构建规定结构和初始化举证为随机矩阵的模型空间\n",
    "        if nasbench.is_valid(spec):\n",
    "            '''\n",
    "            验证构建的模型可行性\n",
    "            '''\n",
    "            return spec"
   ]
  },
  {
   "cell_type": "code",
   "execution_count": 4,
   "metadata": {},
   "outputs": [
    {
     "output_type": "stream",
     "name": "stdout",
     "text": [
      "maxpool3x3\n"
     ]
    }
   ],
   "source": [
    "# 对于ops理解\n",
    "testops = [CONV3X3, CONV1X1, MAXPOOL3X3]\n",
    "test_ops = np.random.choice(testops,size=(NUM_VERTICES))# 创建一个\n",
    "\n",
    "print(test_ops[0])"
   ]
  },
  {
   "cell_type": "code",
   "execution_count": 5,
   "metadata": {},
   "outputs": [],
   "source": [
    "# 设定变异空间\n",
    "# 这里变异空间也就是遗传算法中的变异规则先用官方给出示例，同样交配规则也暂时不改变，沿用官方\n",
    "\n",
    "# 设定变异规则：变异邻接矩阵上三角，为什么是上三角，模型只存在单向连接，如果更改上三角一下的数字存在双线。\n",
    "def mutate_spec(old_spec,mutation_rate=1.0):\n",
    "    '''默认规定变异率为1.0'''\n",
    "    while True:\n",
    "        new_matrix = copy.deepcopy(old_spec.original_matrix) # 深拷贝原始矩阵\n",
    "        new_ops = copy.deepcopy(old_spec.original_ops) # 同上\n",
    "        # 变异规则\n",
    "        # V边翻转（注意大多数最终被修减）\n",
    "        edge_mutation_prob = mutation_rate / NUM_VERTICES # 边变异可能性\n",
    "        for src in range(0,NUM_VERTICES - 1):\n",
    "            ''''''\n",
    "            for dst in range(src +1, NUM_VERTICES):\n",
    "                ''''''\n",
    "                if random.random() < edge_mutation_prob:\n",
    "                    new_matrix[src, dst] = 1 - new_matrix[src, dst]"
   ]
  },
  {
   "cell_type": "code",
   "execution_count": 6,
   "metadata": {},
   "outputs": [],
   "source": [
    "from __future__ import absolute_import\n",
    "from __future__ import division\n",
    "from __future__ import print_function\n",
    "\n",
    "from absl import app\n",
    "from nasbench import api\n",
    "import time"
   ]
  },
  {
   "cell_type": "code",
   "execution_count": 7,
   "metadata": {},
   "outputs": [
    {
     "output_type": "stream",
     "name": "stdout",
     "text": [
      "[[0 0 1 0 1 0 1]\n [0 0 1 1 1 0 0]\n [0 0 0 0 1 0 1]\n [0 0 0 0 1 0 1]\n [0 0 0 0 0 0 0]\n [0 0 0 0 0 0 0]\n [0 0 0 0 0 0 0]]\n[[0 0 1 1 1 0 1]\n [0 0 1 1 1 0 0]\n [0 0 0 0 0 0 1]\n [0 0 0 0 1 0 1]\n [0 0 0 0 0 0 0]\n [0 0 0 0 0 0 0]\n [0 0 0 0 0 0 0]]\n"
     ]
    }
   ],
   "source": [
    "# 测试变异规则函数输出\n",
    "random_spec = random_spec()\n",
    "old_space = random_spec\n",
    "print(old_space.original_matrix)\n",
    "n_matrix = copy.deepcopy(old_space.original_matrix)\n",
    "ep = 1 / 7\n",
    "for src in range(0,NUM_VERTICES - 1):\n",
    "    ''''''\n",
    "    \n",
    "    for dst in range(src +1, NUM_VERTICES):\n",
    "        ''''''\n",
    "        if random.random() < ep:\n",
    "            n_matrix[src, dst] = 1 - n_matrix[src, dst]\n",
    "print(n_matrix)"
   ]
  },
  {
   "cell_type": "code",
   "execution_count": null,
   "metadata": {},
   "outputs": [],
   "source": []
  }
 ]
}